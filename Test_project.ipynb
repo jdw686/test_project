{
 "cells": [
  {
   "cell_type": "code",
<<<<<<< HEAD
=======
   "execution_count": 1,
   "metadata": {},
   "outputs": [
    {
     "name": "stdout",
     "output_type": "stream",
     "text": [
      "Hi Josh. I'll try to commit a new message.\n"
     ]
    }
   ],
   "source": [
    "print (\"Hi Josh. I'll try to commit a new message.\")"
   ]
  },
  {
   "cell_type": "code",
   "execution_count": 2,
   "metadata": {},
   "outputs": [],
   "source": [
    "new_people = (\"Daniela\", \"Anders\", \"Nidra\", \"Michael\", \"Max\", \"Karl\")"
   ]
  },
  {
   "cell_type": "code",
   "execution_count": 3,
   "metadata": {},
   "outputs": [
    {
     "data": {
      "text/plain": [
       "('Daniela', 'Anders', 'Nidra', 'Michael', 'Max', 'Karl')"
      ]
     },
     "execution_count": 3,
     "metadata": {},
     "output_type": "execute_result"
    }
   ],
   "source": [
    "new_people"
   ]
  },
  {
   "cell_type": "code",
   "execution_count": 4,
   "metadata": {},
   "outputs": [
    {
     "data": {
      "text/plain": [
       "'Max'"
      ]
     },
     "execution_count": 4,
     "metadata": {},
     "output_type": "execute_result"
    }
   ],
   "source": [
    "new_people[4]"
   ]
  },
  {
   "cell_type": "code",
>>>>>>> 2efe41971bfff08dcd134a1919a4c58e167049c1
   "execution_count": null,
   "metadata": {},
   "outputs": [],
   "source": []
  }
 ],
 "metadata": {
  "kernelspec": {
   "display_name": "Python 3",
   "language": "python",
   "name": "python3"
  },
  "language_info": {
   "codemirror_mode": {
    "name": "ipython",
    "version": 3
   },
   "file_extension": ".py",
   "mimetype": "text/x-python",
   "name": "python",
   "nbconvert_exporter": "python",
   "pygments_lexer": "ipython3",
<<<<<<< HEAD
   "version": "3.7.1"
=======
   "version": "3.7.3"
>>>>>>> 2efe41971bfff08dcd134a1919a4c58e167049c1
  }
 },
 "nbformat": 4,
 "nbformat_minor": 2
}
